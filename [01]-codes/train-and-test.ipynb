{
 "cells": [
  {
   "cell_type": "code",
   "execution_count": 42,
   "id": "0c84f2be-c525-4d86-b234-d533ed18c962",
   "metadata": {
    "pycharm": {
     "name": "#%%\n"
    }
   },
   "outputs": [],
   "source": [
    "import json\n",
    "import numpy as np\n",
    "import pandas as pd\n",
    "from sklearn.preprocessing import LabelEncoder, OneHotEncoder, StandardScaler\n",
    "from sklearn.model_selection import train_test_split\n",
    "\n",
    "# Load data from the merged JSON file\n",
    "def load_data(merged_file):\n",
    "    with open(merged_file, 'r') as f:\n",
    "        data = json.load(f)\n",
    "    \n",
    "    rows = []\n",
    "    for street in data:\n",
    "        street_name = street['street_name']\n",
    "        for day_type in ['weekdays', 'weekends']:\n",
    "            for time_slot in ['09', '12', '15', '18', '21']:\n",
    "                # Extract traffic entries for this day_type and time_slot\n",
    "                traffic_entries = street['traffic'][day_type][time_slot]\n",
    "                for entry in traffic_entries:\n",
    "                    rows.append({\n",
    "                        'street': street_name,\n",
    "                        'day_type': day_type,\n",
    "                        'time': time_slot,\n",
    "                        'temperature': entry[\"temperature\"],\n",
    "                        'speed': entry[\"speed\"],\n",
    "                        'jamFactor': entry[\"jamFactor\"]\n",
    "                    })\n",
    "    \n",
    "    return pd.DataFrame(rows)\n",
    "\n",
    "# Preprocess data\n",
    "def preprocess_data(df):\n",
    "    # Encode street names\n",
    "    street_encoder = LabelEncoder()\n",
    "    df['street_encoded'] = street_encoder.fit_transform(df['street'])\n",
    "    \n",
    "    # One-hot encode time\n",
    "    time_encoder = OneHotEncoder(sparse_output=False)\n",
    "    time_encoded = time_encoder.fit_transform(df[['time']])\n",
    "    \n",
    "    # Encode day_type (weekdays=0, weekends=1)\n",
    "    df['day_type_encoded'] = df['day_type'].map({'weekdays': 0, 'weekends': 1})\n",
    "    \n",
    "    # Scale numerical features (temperature, speed)\n",
    "    scaler = StandardScaler()\n",
    "    numerical_features = scaler.fit_transform(df[['temperature', 'speed']])\n",
    "    \n",
    "    # Combine all features\n",
    "    X_street = np.eye(len(street_encoder.classes_))[df['street_encoded']]\n",
    "    X_day_type = df['day_type_encoded'].values.reshape(-1, 1)\n",
    "    X_time = time_encoded\n",
    "    X_numerical = numerical_features\n",
    "    \n",
    "    X = np.hstack([X_street, X_day_type, X_time, X_numerical])\n",
    "    y = df['jamFactor'].values\n",
    "    \n",
    "    return X, y, street_encoder, time_encoder, scaler\n",
    "\n",
    "# Load and preprocess data\n",
    "merged_file = '../merged-traffic-data/merged_output.json'\n",
    "df = load_data(merged_file)\n",
    "X, y, street_encoder, time_encoder, scaler = preprocess_data(df)\n",
    "\n",
    "# Split data into train/test sets\n",
    "X_train, X_test, y_train, y_test = train_test_split(X, y, test_size=0.2, random_state=42)"
   ]
  },
  {
   "cell_type": "code",
   "execution_count": 44,
   "id": "ca173885-c1f2-4d59-9add-d17785706f8b",
   "metadata": {
    "pycharm": {
     "name": "#%%\n"
    }
   },
   "outputs": [
    {
     "name": "stdout",
     "output_type": "stream",
     "text": [
      "Epoch 1/50\n"
     ]
    },
    {
     "name": "stderr",
     "output_type": "stream",
     "text": [
      "/opt/anaconda3/lib/python3.12/site-packages/keras/src/layers/core/input_layer.py:27: UserWarning: Argument `input_shape` is deprecated. Use `shape` instead.\n",
      "  warnings.warn(\n"
     ]
    },
    {
     "name": "stdout",
     "output_type": "stream",
     "text": [
      "\u001B[1m40/40\u001B[0m \u001B[32m━━━━━━━━━━━━━━━━━━━━\u001B[0m\u001B[37m\u001B[0m \u001B[1m0s\u001B[0m 2ms/step - loss: 3.3511 - mae: 1.4246 - val_loss: 1.2899 - val_mae: 0.8663\n",
      "Epoch 2/50\n",
      "\u001B[1m40/40\u001B[0m \u001B[32m━━━━━━━━━━━━━━━━━━━━\u001B[0m\u001B[37m\u001B[0m \u001B[1m0s\u001B[0m 1ms/step - loss: 1.0341 - mae: 0.8205 - val_loss: 0.8585 - val_mae: 0.7113\n",
      "Epoch 3/50\n",
      "\u001B[1m40/40\u001B[0m \u001B[32m━━━━━━━━━━━━━━━━━━━━\u001B[0m\u001B[37m\u001B[0m \u001B[1m0s\u001B[0m 1ms/step - loss: 0.7175 - mae: 0.6454 - val_loss: 0.7601 - val_mae: 0.6759\n",
      "Epoch 4/50\n",
      "\u001B[1m40/40\u001B[0m \u001B[32m━━━━━━━━━━━━━━━━━━━━\u001B[0m\u001B[37m\u001B[0m \u001B[1m0s\u001B[0m 1ms/step - loss: 0.6355 - mae: 0.6124 - val_loss: 0.6980 - val_mae: 0.6390\n",
      "Epoch 5/50\n",
      "\u001B[1m40/40\u001B[0m \u001B[32m━━━━━━━━━━━━━━━━━━━━\u001B[0m\u001B[37m\u001B[0m \u001B[1m0s\u001B[0m 1ms/step - loss: 0.6240 - mae: 0.6049 - val_loss: 0.6587 - val_mae: 0.6074\n",
      "Epoch 6/50\n",
      "\u001B[1m40/40\u001B[0m \u001B[32m━━━━━━━━━━━━━━━━━━━━\u001B[0m\u001B[37m\u001B[0m \u001B[1m0s\u001B[0m 1ms/step - loss: 0.5683 - mae: 0.5702 - val_loss: 0.6236 - val_mae: 0.5950\n",
      "Epoch 7/50\n",
      "\u001B[1m40/40\u001B[0m \u001B[32m━━━━━━━━━━━━━━━━━━━━\u001B[0m\u001B[37m\u001B[0m \u001B[1m0s\u001B[0m 1ms/step - loss: 0.4973 - mae: 0.5374 - val_loss: 0.5915 - val_mae: 0.5786\n",
      "Epoch 8/50\n",
      "\u001B[1m40/40\u001B[0m \u001B[32m━━━━━━━━━━━━━━━━━━━━\u001B[0m\u001B[37m\u001B[0m \u001B[1m0s\u001B[0m 1ms/step - loss: 0.5082 - mae: 0.5306 - val_loss: 0.5690 - val_mae: 0.5582\n",
      "Epoch 9/50\n",
      "\u001B[1m40/40\u001B[0m \u001B[32m━━━━━━━━━━━━━━━━━━━━\u001B[0m\u001B[37m\u001B[0m \u001B[1m0s\u001B[0m 1ms/step - loss: 0.4481 - mae: 0.5007 - val_loss: 0.5471 - val_mae: 0.5465\n",
      "Epoch 10/50\n",
      "\u001B[1m40/40\u001B[0m \u001B[32m━━━━━━━━━━━━━━━━━━━━\u001B[0m\u001B[37m\u001B[0m \u001B[1m0s\u001B[0m 1ms/step - loss: 0.4900 - mae: 0.5143 - val_loss: 0.5296 - val_mae: 0.5334\n",
      "Epoch 11/50\n",
      "\u001B[1m40/40\u001B[0m \u001B[32m━━━━━━━━━━━━━━━━━━━━\u001B[0m\u001B[37m\u001B[0m \u001B[1m0s\u001B[0m 1ms/step - loss: 0.4445 - mae: 0.4938 - val_loss: 0.5165 - val_mae: 0.5225\n",
      "Epoch 12/50\n",
      "\u001B[1m40/40\u001B[0m \u001B[32m━━━━━━━━━━━━━━━━━━━━\u001B[0m\u001B[37m\u001B[0m \u001B[1m0s\u001B[0m 1ms/step - loss: 0.4857 - mae: 0.5064 - val_loss: 0.5041 - val_mae: 0.5126\n",
      "Epoch 13/50\n",
      "\u001B[1m40/40\u001B[0m \u001B[32m━━━━━━━━━━━━━━━━━━━━\u001B[0m\u001B[37m\u001B[0m \u001B[1m0s\u001B[0m 1ms/step - loss: 0.4089 - mae: 0.4620 - val_loss: 0.4977 - val_mae: 0.5111\n",
      "Epoch 14/50\n",
      "\u001B[1m40/40\u001B[0m \u001B[32m━━━━━━━━━━━━━━━━━━━━\u001B[0m\u001B[37m\u001B[0m \u001B[1m0s\u001B[0m 1ms/step - loss: 0.3549 - mae: 0.4345 - val_loss: 0.4905 - val_mae: 0.5018\n",
      "Epoch 15/50\n",
      "\u001B[1m40/40\u001B[0m \u001B[32m━━━━━━━━━━━━━━━━━━━━\u001B[0m\u001B[37m\u001B[0m \u001B[1m0s\u001B[0m 1ms/step - loss: 0.3927 - mae: 0.4426 - val_loss: 0.4773 - val_mae: 0.4927\n",
      "Epoch 16/50\n",
      "\u001B[1m40/40\u001B[0m \u001B[32m━━━━━━━━━━━━━━━━━━━━\u001B[0m\u001B[37m\u001B[0m \u001B[1m0s\u001B[0m 1ms/step - loss: 0.3709 - mae: 0.4343 - val_loss: 0.4809 - val_mae: 0.4869\n",
      "Epoch 17/50\n",
      "\u001B[1m40/40\u001B[0m \u001B[32m━━━━━━━━━━━━━━━━━━━━\u001B[0m\u001B[37m\u001B[0m \u001B[1m0s\u001B[0m 1ms/step - loss: 0.3645 - mae: 0.4372 - val_loss: 0.4781 - val_mae: 0.4909\n",
      "Epoch 18/50\n",
      "\u001B[1m40/40\u001B[0m \u001B[32m━━━━━━━━━━━━━━━━━━━━\u001B[0m\u001B[37m\u001B[0m \u001B[1m0s\u001B[0m 1ms/step - loss: 0.4126 - mae: 0.4531 - val_loss: 0.4698 - val_mae: 0.4836\n",
      "Epoch 19/50\n",
      "\u001B[1m40/40\u001B[0m \u001B[32m━━━━━━━━━━━━━━━━━━━━\u001B[0m\u001B[37m\u001B[0m \u001B[1m0s\u001B[0m 1ms/step - loss: 0.3937 - mae: 0.4475 - val_loss: 0.4745 - val_mae: 0.4806\n",
      "Epoch 20/50\n",
      "\u001B[1m40/40\u001B[0m \u001B[32m━━━━━━━━━━━━━━━━━━━━\u001B[0m\u001B[37m\u001B[0m \u001B[1m0s\u001B[0m 1ms/step - loss: 0.3424 - mae: 0.4056 - val_loss: 0.4577 - val_mae: 0.4655\n",
      "Epoch 21/50\n",
      "\u001B[1m40/40\u001B[0m \u001B[32m━━━━━━━━━━━━━━━━━━━━\u001B[0m\u001B[37m\u001B[0m \u001B[1m0s\u001B[0m 3ms/step - loss: 0.3527 - mae: 0.4075 - val_loss: 0.4658 - val_mae: 0.4658\n",
      "Epoch 22/50\n",
      "\u001B[1m40/40\u001B[0m \u001B[32m━━━━━━━━━━━━━━━━━━━━\u001B[0m\u001B[37m\u001B[0m \u001B[1m0s\u001B[0m 1ms/step - loss: 0.3526 - mae: 0.4190 - val_loss: 0.4609 - val_mae: 0.4650\n",
      "Epoch 23/50\n",
      "\u001B[1m40/40\u001B[0m \u001B[32m━━━━━━━━━━━━━━━━━━━━\u001B[0m\u001B[37m\u001B[0m \u001B[1m0s\u001B[0m 1ms/step - loss: 0.3582 - mae: 0.4150 - val_loss: 0.4656 - val_mae: 0.4715\n",
      "Epoch 24/50\n",
      "\u001B[1m40/40\u001B[0m \u001B[32m━━━━━━━━━━━━━━━━━━━━\u001B[0m\u001B[37m\u001B[0m \u001B[1m0s\u001B[0m 1ms/step - loss: 0.3706 - mae: 0.4180 - val_loss: 0.4588 - val_mae: 0.4666\n",
      "Epoch 25/50\n",
      "\u001B[1m40/40\u001B[0m \u001B[32m━━━━━━━━━━━━━━━━━━━━\u001B[0m\u001B[37m\u001B[0m \u001B[1m0s\u001B[0m 1ms/step - loss: 0.3413 - mae: 0.3998 - val_loss: 0.4645 - val_mae: 0.4598\n",
      "Epoch 26/50\n",
      "\u001B[1m40/40\u001B[0m \u001B[32m━━━━━━━━━━━━━━━━━━━━\u001B[0m\u001B[37m\u001B[0m \u001B[1m0s\u001B[0m 1ms/step - loss: 0.3908 - mae: 0.4122 - val_loss: 0.4552 - val_mae: 0.4601\n",
      "Epoch 27/50\n",
      "\u001B[1m40/40\u001B[0m \u001B[32m━━━━━━━━━━━━━━━━━━━━\u001B[0m\u001B[37m\u001B[0m \u001B[1m0s\u001B[0m 1ms/step - loss: 0.3249 - mae: 0.3995 - val_loss: 0.4599 - val_mae: 0.4701\n",
      "Epoch 28/50\n",
      "\u001B[1m40/40\u001B[0m \u001B[32m━━━━━━━━━━━━━━━━━━━━\u001B[0m\u001B[37m\u001B[0m \u001B[1m0s\u001B[0m 1ms/step - loss: 0.3581 - mae: 0.4030 - val_loss: 0.4519 - val_mae: 0.4556\n",
      "Epoch 29/50\n",
      "\u001B[1m40/40\u001B[0m \u001B[32m━━━━━━━━━━━━━━━━━━━━\u001B[0m\u001B[37m\u001B[0m \u001B[1m0s\u001B[0m 1ms/step - loss: 0.3471 - mae: 0.4039 - val_loss: 0.4559 - val_mae: 0.4589\n",
      "Epoch 30/50\n",
      "\u001B[1m40/40\u001B[0m \u001B[32m━━━━━━━━━━━━━━━━━━━━\u001B[0m\u001B[37m\u001B[0m \u001B[1m0s\u001B[0m 1ms/step - loss: 0.3529 - mae: 0.4023 - val_loss: 0.4528 - val_mae: 0.4526\n",
      "Epoch 31/50\n",
      "\u001B[1m40/40\u001B[0m \u001B[32m━━━━━━━━━━━━━━━━━━━━\u001B[0m\u001B[37m\u001B[0m \u001B[1m0s\u001B[0m 1ms/step - loss: 0.3519 - mae: 0.3933 - val_loss: 0.4447 - val_mae: 0.4464\n",
      "Epoch 32/50\n",
      "\u001B[1m40/40\u001B[0m \u001B[32m━━━━━━━━━━━━━━━━━━━━\u001B[0m\u001B[37m\u001B[0m \u001B[1m0s\u001B[0m 1ms/step - loss: 0.3359 - mae: 0.3945 - val_loss: 0.4525 - val_mae: 0.4466\n",
      "Epoch 33/50\n",
      "\u001B[1m40/40\u001B[0m \u001B[32m━━━━━━━━━━━━━━━━━━━━\u001B[0m\u001B[37m\u001B[0m \u001B[1m0s\u001B[0m 1ms/step - loss: 0.3261 - mae: 0.3946 - val_loss: 0.4535 - val_mae: 0.4627\n",
      "Epoch 34/50\n",
      "\u001B[1m40/40\u001B[0m \u001B[32m━━━━━━━━━━━━━━━━━━━━\u001B[0m\u001B[37m\u001B[0m \u001B[1m0s\u001B[0m 1ms/step - loss: 0.2944 - mae: 0.3695 - val_loss: 0.4458 - val_mae: 0.4485\n",
      "Epoch 35/50\n",
      "\u001B[1m40/40\u001B[0m \u001B[32m━━━━━━━━━━━━━━━━━━━━\u001B[0m\u001B[37m\u001B[0m \u001B[1m0s\u001B[0m 1ms/step - loss: 0.3625 - mae: 0.4014 - val_loss: 0.4529 - val_mae: 0.4697\n",
      "Epoch 36/50\n",
      "\u001B[1m40/40\u001B[0m \u001B[32m━━━━━━━━━━━━━━━━━━━━\u001B[0m\u001B[37m\u001B[0m \u001B[1m0s\u001B[0m 1ms/step - loss: 0.3389 - mae: 0.3877 - val_loss: 0.4439 - val_mae: 0.4457\n",
      "Epoch 37/50\n",
      "\u001B[1m40/40\u001B[0m \u001B[32m━━━━━━━━━━━━━━━━━━━━\u001B[0m\u001B[37m\u001B[0m \u001B[1m0s\u001B[0m 1ms/step - loss: 0.3356 - mae: 0.3803 - val_loss: 0.4544 - val_mae: 0.4553\n",
      "Epoch 38/50\n",
      "\u001B[1m40/40\u001B[0m \u001B[32m━━━━━━━━━━━━━━━━━━━━\u001B[0m\u001B[37m\u001B[0m \u001B[1m0s\u001B[0m 1ms/step - loss: 0.3954 - mae: 0.4170 - val_loss: 0.4509 - val_mae: 0.4406\n",
      "Epoch 39/50\n",
      "\u001B[1m40/40\u001B[0m \u001B[32m━━━━━━━━━━━━━━━━━━━━\u001B[0m\u001B[37m\u001B[0m \u001B[1m0s\u001B[0m 1ms/step - loss: 0.3071 - mae: 0.3733 - val_loss: 0.4415 - val_mae: 0.4454\n",
      "Epoch 40/50\n",
      "\u001B[1m40/40\u001B[0m \u001B[32m━━━━━━━━━━━━━━━━━━━━\u001B[0m\u001B[37m\u001B[0m \u001B[1m0s\u001B[0m 1ms/step - loss: 0.3126 - mae: 0.3770 - val_loss: 0.4443 - val_mae: 0.4527\n",
      "Epoch 41/50\n",
      "\u001B[1m40/40\u001B[0m \u001B[32m━━━━━━━━━━━━━━━━━━━━\u001B[0m\u001B[37m\u001B[0m \u001B[1m0s\u001B[0m 1ms/step - loss: 0.3432 - mae: 0.3961 - val_loss: 0.4352 - val_mae: 0.4375\n",
      "Epoch 42/50\n",
      "\u001B[1m40/40\u001B[0m \u001B[32m━━━━━━━━━━━━━━━━━━━━\u001B[0m\u001B[37m\u001B[0m \u001B[1m0s\u001B[0m 1ms/step - loss: 0.3082 - mae: 0.3705 - val_loss: 0.4487 - val_mae: 0.4422\n",
      "Epoch 43/50\n",
      "\u001B[1m40/40\u001B[0m \u001B[32m━━━━━━━━━━━━━━━━━━━━\u001B[0m\u001B[37m\u001B[0m \u001B[1m0s\u001B[0m 1ms/step - loss: 0.3514 - mae: 0.3831 - val_loss: 0.4339 - val_mae: 0.4348\n",
      "Epoch 44/50\n",
      "\u001B[1m40/40\u001B[0m \u001B[32m━━━━━━━━━━━━━━━━━━━━\u001B[0m\u001B[37m\u001B[0m \u001B[1m0s\u001B[0m 1ms/step - loss: 0.3188 - mae: 0.3678 - val_loss: 0.4480 - val_mae: 0.4449\n",
      "Epoch 45/50\n",
      "\u001B[1m40/40\u001B[0m \u001B[32m━━━━━━━━━━━━━━━━━━━━\u001B[0m\u001B[37m\u001B[0m \u001B[1m0s\u001B[0m 1ms/step - loss: 0.2993 - mae: 0.3621 - val_loss: 0.4379 - val_mae: 0.4383\n",
      "Epoch 46/50\n",
      "\u001B[1m40/40\u001B[0m \u001B[32m━━━━━━━━━━━━━━━━━━━━\u001B[0m\u001B[37m\u001B[0m \u001B[1m0s\u001B[0m 1ms/step - loss: 0.3268 - mae: 0.3732 - val_loss: 0.4389 - val_mae: 0.4498\n",
      "Epoch 47/50\n",
      "\u001B[1m40/40\u001B[0m \u001B[32m━━━━━━━━━━━━━━━━━━━━\u001B[0m\u001B[37m\u001B[0m \u001B[1m0s\u001B[0m 1ms/step - loss: 0.3541 - mae: 0.3883 - val_loss: 0.4381 - val_mae: 0.4310\n",
      "Epoch 48/50\n",
      "\u001B[1m40/40\u001B[0m \u001B[32m━━━━━━━━━━━━━━━━━━━━\u001B[0m\u001B[37m\u001B[0m \u001B[1m0s\u001B[0m 1ms/step - loss: 0.3478 - mae: 0.3881 - val_loss: 0.4429 - val_mae: 0.4429\n",
      "Epoch 49/50\n",
      "\u001B[1m40/40\u001B[0m \u001B[32m━━━━━━━━━━━━━━━━━━━━\u001B[0m\u001B[37m\u001B[0m \u001B[1m0s\u001B[0m 1ms/step - loss: 0.3367 - mae: 0.3764 - val_loss: 0.4272 - val_mae: 0.4302\n",
      "Epoch 50/50\n",
      "\u001B[1m40/40\u001B[0m \u001B[32m━━━━━━━━━━━━━━━━━━━━\u001B[0m\u001B[37m\u001B[0m \u001B[1m0s\u001B[0m 1ms/step - loss: 0.3327 - mae: 0.3789 - val_loss: 0.4445 - val_mae: 0.4452\n",
      "Test Loss: 0.4017, Test MAE: 0.4307\n"
     ]
    }
   ],
   "source": [
    "from tensorflow.keras.models import Sequential\n",
    "from tensorflow.keras.layers import Dense, InputLayer\n",
    "from tensorflow.keras.optimizers import Adam\n",
    "\n",
    "# Define the neural network\n",
    "def build_model(input_shape):\n",
    "    model = Sequential([\n",
    "        InputLayer(input_shape=(input_shape,)),\n",
    "        Dense(64, activation='relu'),\n",
    "        Dense(32, activation='relu'),\n",
    "        Dense(1)  # Output layer for regression\n",
    "    ])\n",
    "    model.compile(optimizer=Adam(0.001), loss='mse', metrics=['mae'])\n",
    "    return model\n",
    "\n",
    "# Build and train the model\n",
    "model = build_model(X_train.shape[1])\n",
    "history = model.fit(X_train, y_train, epochs=50, batch_size=32, validation_split=0.2)\n",
    "\n",
    "# Evaluate the model\n",
    "test_loss, test_mae = model.evaluate(X_test, y_test, verbose=0)\n",
    "print(f\"Test Loss: {test_loss:.4f}, Test MAE: {test_mae:.4f}\")"
   ]
  },
  {
   "cell_type": "code",
   "execution_count": 26,
   "id": "7f6ecf6a-ae29-48e1-90a0-58e89b58fa89",
   "metadata": {
    "pycharm": {
     "name": "#%%\n"
    }
   },
   "outputs": [
    {
     "name": "stdout",
     "output_type": "stream",
     "text": [
      "Epoch 1/200\n",
      "\u001B[1m15/15\u001B[0m \u001B[32m━━━━━━━━━━━━━━━━━━━━\u001B[0m\u001B[37m\u001B[0m \u001B[1m0s\u001B[0m 6ms/step - loss: 3.4314 - mae: 1.5633 - val_loss: 1.3143 - val_mae: 0.9090\n",
      "Epoch 2/200\n",
      "\u001B[1m15/15\u001B[0m \u001B[32m━━━━━━━━━━━━━━━━━━━━\u001B[0m\u001B[37m\u001B[0m \u001B[1m0s\u001B[0m 2ms/step - loss: 0.9639 - mae: 0.7919 - val_loss: 0.8712 - val_mae: 0.7357\n",
      "Epoch 3/200\n",
      "\u001B[1m15/15\u001B[0m \u001B[32m━━━━━━━━━━━━━━━━━━━━\u001B[0m\u001B[37m\u001B[0m \u001B[1m0s\u001B[0m 2ms/step - loss: 0.8577 - mae: 0.7582 - val_loss: 0.6679 - val_mae: 0.6553\n",
      "Epoch 4/200\n",
      "\u001B[1m15/15\u001B[0m \u001B[32m━━━━━━━━━━━━━━━━━━━━\u001B[0m\u001B[37m\u001B[0m \u001B[1m0s\u001B[0m 2ms/step - loss: 0.8333 - mae: 0.7447 - val_loss: 0.5802 - val_mae: 0.6101\n",
      "Epoch 5/200\n",
      "\u001B[1m15/15\u001B[0m \u001B[32m━━━━━━━━━━━━━━━━━━━━\u001B[0m\u001B[37m\u001B[0m \u001B[1m0s\u001B[0m 2ms/step - loss: 0.6918 - mae: 0.6677 - val_loss: 0.5612 - val_mae: 0.5954\n",
      "Epoch 6/200\n",
      "\u001B[1m15/15\u001B[0m \u001B[32m━━━━━━━━━━━━━━━━━━━━\u001B[0m\u001B[37m\u001B[0m \u001B[1m0s\u001B[0m 2ms/step - loss: 0.6559 - mae: 0.6607 - val_loss: 0.5418 - val_mae: 0.5931\n",
      "Epoch 7/200\n",
      "\u001B[1m15/15\u001B[0m \u001B[32m━━━━━━━━━━━━━━━━━━━━\u001B[0m\u001B[37m\u001B[0m \u001B[1m0s\u001B[0m 2ms/step - loss: 0.7425 - mae: 0.6955 - val_loss: 0.5115 - val_mae: 0.5710\n",
      "Epoch 8/200\n",
      "\u001B[1m15/15\u001B[0m \u001B[32m━━━━━━━━━━━━━━━━━━━━\u001B[0m\u001B[37m\u001B[0m \u001B[1m0s\u001B[0m 2ms/step - loss: 0.6372 - mae: 0.6392 - val_loss: 0.4794 - val_mae: 0.5570\n",
      "Epoch 9/200\n",
      "\u001B[1m15/15\u001B[0m \u001B[32m━━━━━━━━━━━━━━━━━━━━\u001B[0m\u001B[37m\u001B[0m \u001B[1m0s\u001B[0m 2ms/step - loss: 0.5669 - mae: 0.6005 - val_loss: 0.4687 - val_mae: 0.5508\n",
      "Epoch 10/200\n",
      "\u001B[1m15/15\u001B[0m \u001B[32m━━━━━━━━━━━━━━━━━━━━\u001B[0m\u001B[37m\u001B[0m \u001B[1m0s\u001B[0m 2ms/step - loss: 0.6724 - mae: 0.6529 - val_loss: 0.4541 - val_mae: 0.5396\n",
      "Epoch 11/200\n",
      "\u001B[1m15/15\u001B[0m \u001B[32m━━━━━━━━━━━━━━━━━━━━\u001B[0m\u001B[37m\u001B[0m \u001B[1m0s\u001B[0m 2ms/step - loss: 0.5369 - mae: 0.5828 - val_loss: 0.4351 - val_mae: 0.5273\n",
      "Epoch 12/200\n",
      "\u001B[1m15/15\u001B[0m \u001B[32m━━━━━━━━━━━━━━━━━━━━\u001B[0m\u001B[37m\u001B[0m \u001B[1m0s\u001B[0m 2ms/step - loss: 0.4812 - mae: 0.5324 - val_loss: 0.4320 - val_mae: 0.5318\n",
      "Epoch 13/200\n",
      "\u001B[1m15/15\u001B[0m \u001B[32m━━━━━━━━━━━━━━━━━━━━\u001B[0m\u001B[37m\u001B[0m \u001B[1m0s\u001B[0m 2ms/step - loss: 0.4909 - mae: 0.5606 - val_loss: 0.4307 - val_mae: 0.5176\n",
      "Epoch 14/200\n",
      "\u001B[1m15/15\u001B[0m \u001B[32m━━━━━━━━━━━━━━━━━━━━\u001B[0m\u001B[37m\u001B[0m \u001B[1m0s\u001B[0m 2ms/step - loss: 0.5818 - mae: 0.5916 - val_loss: 0.4050 - val_mae: 0.5127\n",
      "Epoch 15/200\n",
      "\u001B[1m15/15\u001B[0m \u001B[32m━━━━━━━━━━━━━━━━━━━━\u001B[0m\u001B[37m\u001B[0m \u001B[1m0s\u001B[0m 2ms/step - loss: 0.5391 - mae: 0.5572 - val_loss: 0.3747 - val_mae: 0.4793\n",
      "Epoch 16/200\n",
      "\u001B[1m15/15\u001B[0m \u001B[32m━━━━━━━━━━━━━━━━━━━━\u001B[0m\u001B[37m\u001B[0m \u001B[1m0s\u001B[0m 2ms/step - loss: 0.4538 - mae: 0.5156 - val_loss: 0.4048 - val_mae: 0.5058\n",
      "Epoch 17/200\n",
      "\u001B[1m15/15\u001B[0m \u001B[32m━━━━━━━━━━━━━━━━━━━━\u001B[0m\u001B[37m\u001B[0m \u001B[1m0s\u001B[0m 2ms/step - loss: 0.5455 - mae: 0.5749 - val_loss: 0.4257 - val_mae: 0.5174\n",
      "Epoch 18/200\n",
      "\u001B[1m15/15\u001B[0m \u001B[32m━━━━━━━━━━━━━━━━━━━━\u001B[0m\u001B[37m\u001B[0m \u001B[1m0s\u001B[0m 4ms/step - loss: 0.4600 - mae: 0.5308 - val_loss: 0.4016 - val_mae: 0.4899\n",
      "Epoch 19/200\n",
      "\u001B[1m15/15\u001B[0m \u001B[32m━━━━━━━━━━━━━━━━━━━━\u001B[0m\u001B[37m\u001B[0m \u001B[1m0s\u001B[0m 2ms/step - loss: 0.4605 - mae: 0.5297 - val_loss: 0.3844 - val_mae: 0.4934\n",
      "Epoch 20/200\n",
      "\u001B[1m15/15\u001B[0m \u001B[32m━━━━━━━━━━━━━━━━━━━━\u001B[0m\u001B[37m\u001B[0m \u001B[1m0s\u001B[0m 2ms/step - loss: 0.5503 - mae: 0.5753 - val_loss: 0.4023 - val_mae: 0.5013\n",
      "Epoch 21/200\n",
      "\u001B[1m15/15\u001B[0m \u001B[32m━━━━━━━━━━━━━━━━━━━━\u001B[0m\u001B[37m\u001B[0m \u001B[1m0s\u001B[0m 2ms/step - loss: 0.4564 - mae: 0.5220 - val_loss: 0.3950 - val_mae: 0.4968\n",
      "Epoch 22/200\n",
      "\u001B[1m15/15\u001B[0m \u001B[32m━━━━━━━━━━━━━━━━━━━━\u001B[0m\u001B[37m\u001B[0m \u001B[1m0s\u001B[0m 2ms/step - loss: 0.5003 - mae: 0.5481 - val_loss: 0.3669 - val_mae: 0.4759\n",
      "Epoch 23/200\n",
      "\u001B[1m15/15\u001B[0m \u001B[32m━━━━━━━━━━━━━━━━━━━━\u001B[0m\u001B[37m\u001B[0m \u001B[1m0s\u001B[0m 2ms/step - loss: 0.4626 - mae: 0.5188 - val_loss: 0.3927 - val_mae: 0.5031\n",
      "Epoch 24/200\n",
      "\u001B[1m15/15\u001B[0m \u001B[32m━━━━━━━━━━━━━━━━━━━━\u001B[0m\u001B[37m\u001B[0m \u001B[1m0s\u001B[0m 2ms/step - loss: 0.4147 - mae: 0.4873 - val_loss: 0.4003 - val_mae: 0.5088\n",
      "Epoch 25/200\n",
      "\u001B[1m15/15\u001B[0m \u001B[32m━━━━━━━━━━━━━━━━━━━━\u001B[0m\u001B[37m\u001B[0m \u001B[1m0s\u001B[0m 2ms/step - loss: 0.5093 - mae: 0.5403 - val_loss: 0.3929 - val_mae: 0.4959\n",
      "Epoch 26/200\n",
      "\u001B[1m15/15\u001B[0m \u001B[32m━━━━━━━━━━━━━━━━━━━━\u001B[0m\u001B[37m\u001B[0m \u001B[1m0s\u001B[0m 2ms/step - loss: 0.4662 - mae: 0.5221 - val_loss: 0.3650 - val_mae: 0.4759\n",
      "Epoch 27/200\n",
      "\u001B[1m15/15\u001B[0m \u001B[32m━━━━━━━━━━━━━━━━━━━━\u001B[0m\u001B[37m\u001B[0m \u001B[1m0s\u001B[0m 3ms/step - loss: 0.3882 - mae: 0.4752 - val_loss: 0.3622 - val_mae: 0.4660\n",
      "Epoch 28/200\n",
      "\u001B[1m15/15\u001B[0m \u001B[32m━━━━━━━━━━━━━━━━━━━━\u001B[0m\u001B[37m\u001B[0m \u001B[1m0s\u001B[0m 2ms/step - loss: 0.4708 - mae: 0.5107 - val_loss: 0.3440 - val_mae: 0.4687\n",
      "Epoch 29/200\n",
      "\u001B[1m15/15\u001B[0m \u001B[32m━━━━━━━━━━━━━━━━━━━━\u001B[0m\u001B[37m\u001B[0m \u001B[1m0s\u001B[0m 2ms/step - loss: 0.3933 - mae: 0.4840 - val_loss: 0.3501 - val_mae: 0.4624\n",
      "Epoch 30/200\n",
      "\u001B[1m15/15\u001B[0m \u001B[32m━━━━━━━━━━━━━━━━━━━━\u001B[0m\u001B[37m\u001B[0m \u001B[1m0s\u001B[0m 2ms/step - loss: 0.5744 - mae: 0.5725 - val_loss: 0.3763 - val_mae: 0.4809\n",
      "Epoch 31/200\n",
      "\u001B[1m15/15\u001B[0m \u001B[32m━━━━━━━━━━━━━━━━━━━━\u001B[0m\u001B[37m\u001B[0m \u001B[1m0s\u001B[0m 2ms/step - loss: 0.3831 - mae: 0.4739 - val_loss: 0.4045 - val_mae: 0.5060\n",
      "Epoch 32/200\n",
      "\u001B[1m15/15\u001B[0m \u001B[32m━━━━━━━━━━━━━━━━━━━━\u001B[0m\u001B[37m\u001B[0m \u001B[1m0s\u001B[0m 2ms/step - loss: 0.4225 - mae: 0.5092 - val_loss: 0.3933 - val_mae: 0.4876\n",
      "Epoch 33/200\n",
      "\u001B[1m15/15\u001B[0m \u001B[32m━━━━━━━━━━━━━━━━━━━━\u001B[0m\u001B[37m\u001B[0m \u001B[1m0s\u001B[0m 2ms/step - loss: 0.5119 - mae: 0.5439 - val_loss: 0.3693 - val_mae: 0.4816\n",
      "Epoch 34/200\n",
      "\u001B[1m15/15\u001B[0m \u001B[32m━━━━━━━━━━━━━━━━━━━━\u001B[0m\u001B[37m\u001B[0m \u001B[1m0s\u001B[0m 2ms/step - loss: 0.4718 - mae: 0.5306 - val_loss: 0.3520 - val_mae: 0.4711\n",
      "Epoch 35/200\n",
      "\u001B[1m15/15\u001B[0m \u001B[32m━━━━━━━━━━━━━━━━━━━━\u001B[0m\u001B[37m\u001B[0m \u001B[1m0s\u001B[0m 2ms/step - loss: 0.4284 - mae: 0.4771 - val_loss: 0.3574 - val_mae: 0.4731\n",
      "Epoch 36/200\n",
      "\u001B[1m15/15\u001B[0m \u001B[32m━━━━━━━━━━━━━━━━━━━━\u001B[0m\u001B[37m\u001B[0m \u001B[1m0s\u001B[0m 2ms/step - loss: 0.4935 - mae: 0.5292 - val_loss: 0.3189 - val_mae: 0.4406\n",
      "Epoch 37/200\n",
      "\u001B[1m15/15\u001B[0m \u001B[32m━━━━━━━━━━━━━━━━━━━━\u001B[0m\u001B[37m\u001B[0m \u001B[1m0s\u001B[0m 2ms/step - loss: 0.5361 - mae: 0.5586 - val_loss: 0.3309 - val_mae: 0.4519\n",
      "Epoch 38/200\n",
      "\u001B[1m15/15\u001B[0m \u001B[32m━━━━━━━━━━━━━━━━━━━━\u001B[0m\u001B[37m\u001B[0m \u001B[1m0s\u001B[0m 2ms/step - loss: 0.4101 - mae: 0.4912 - val_loss: 0.3583 - val_mae: 0.4647\n",
      "Epoch 39/200\n",
      "\u001B[1m15/15\u001B[0m \u001B[32m━━━━━━━━━━━━━━━━━━━━\u001B[0m\u001B[37m\u001B[0m \u001B[1m0s\u001B[0m 2ms/step - loss: 0.4631 - mae: 0.5231 - val_loss: 0.3390 - val_mae: 0.4716\n",
      "Epoch 40/200\n",
      "\u001B[1m15/15\u001B[0m \u001B[32m━━━━━━━━━━━━━━━━━━━━\u001B[0m\u001B[37m\u001B[0m \u001B[1m0s\u001B[0m 3ms/step - loss: 0.4658 - mae: 0.5173 - val_loss: 0.3423 - val_mae: 0.4559\n",
      "Epoch 41/200\n",
      "\u001B[1m15/15\u001B[0m \u001B[32m━━━━━━━━━━━━━━━━━━━━\u001B[0m\u001B[37m\u001B[0m \u001B[1m0s\u001B[0m 3ms/step - loss: 0.4501 - mae: 0.5212 - val_loss: 0.3509 - val_mae: 0.4752\n",
      "Epoch 42/200\n",
      "\u001B[1m15/15\u001B[0m \u001B[32m━━━━━━━━━━━━━━━━━━━━\u001B[0m\u001B[37m\u001B[0m \u001B[1m0s\u001B[0m 2ms/step - loss: 0.3731 - mae: 0.4496 - val_loss: 0.3457 - val_mae: 0.4609\n",
      "Epoch 43/200\n",
      "\u001B[1m15/15\u001B[0m \u001B[32m━━━━━━━━━━━━━━━━━━━━\u001B[0m\u001B[37m\u001B[0m \u001B[1m0s\u001B[0m 2ms/step - loss: 0.3751 - mae: 0.4658 - val_loss: 0.3469 - val_mae: 0.4472\n",
      "Epoch 44/200\n",
      "\u001B[1m15/15\u001B[0m \u001B[32m━━━━━━━━━━━━━━━━━━━━\u001B[0m\u001B[37m\u001B[0m \u001B[1m0s\u001B[0m 2ms/step - loss: 0.3821 - mae: 0.4818 - val_loss: 0.3574 - val_mae: 0.4672\n",
      "Epoch 45/200\n",
      "\u001B[1m15/15\u001B[0m \u001B[32m━━━━━━━━━━━━━━━━━━━━\u001B[0m\u001B[37m\u001B[0m \u001B[1m0s\u001B[0m 2ms/step - loss: 0.4021 - mae: 0.4708 - val_loss: 0.3447 - val_mae: 0.4549\n",
      "Epoch 46/200\n",
      "\u001B[1m15/15\u001B[0m \u001B[32m━━━━━━━━━━━━━━━━━━━━\u001B[0m\u001B[37m\u001B[0m \u001B[1m0s\u001B[0m 2ms/step - loss: 0.4326 - mae: 0.4901 - val_loss: 0.3316 - val_mae: 0.4559\n",
      "Epoch 47/200\n",
      "\u001B[1m15/15\u001B[0m \u001B[32m━━━━━━━━━━━━━━━━━━━━\u001B[0m\u001B[37m\u001B[0m \u001B[1m0s\u001B[0m 2ms/step - loss: 0.4034 - mae: 0.4962 - val_loss: 0.3232 - val_mae: 0.4420\n",
      "Epoch 48/200\n",
      "\u001B[1m15/15\u001B[0m \u001B[32m━━━━━━━━━━━━━━━━━━━━\u001B[0m\u001B[37m\u001B[0m \u001B[1m0s\u001B[0m 2ms/step - loss: 0.3939 - mae: 0.4784 - val_loss: 0.3341 - val_mae: 0.4613\n",
      "Epoch 49/200\n",
      "\u001B[1m15/15\u001B[0m \u001B[32m━━━━━━━━━━━━━━━━━━━━\u001B[0m\u001B[37m\u001B[0m \u001B[1m0s\u001B[0m 2ms/step - loss: 0.3886 - mae: 0.4697 - val_loss: 0.3227 - val_mae: 0.4478\n",
      "Epoch 50/200\n",
      "\u001B[1m15/15\u001B[0m \u001B[32m━━━━━━━━━━━━━━━━━━━━\u001B[0m\u001B[37m\u001B[0m \u001B[1m0s\u001B[0m 2ms/step - loss: 0.4078 - mae: 0.4822 - val_loss: 0.3405 - val_mae: 0.4623\n",
      "Epoch 51/200\n",
      "\u001B[1m15/15\u001B[0m \u001B[32m━━━━━━━━━━━━━━━━━━━━\u001B[0m\u001B[37m\u001B[0m \u001B[1m0s\u001B[0m 3ms/step - loss: 0.4197 - mae: 0.4715 - val_loss: 0.3338 - val_mae: 0.4461\n",
      "\u001B[1m3/3\u001B[0m \u001B[32m━━━━━━━━━━━━━━━━━━━━\u001B[0m\u001B[37m\u001B[0m \u001B[1m0s\u001B[0m 26ms/step - loss: 0.3462 - mae: 0.4338\n",
      "Test MAE: 0.41\n",
      "Test MSE: 0.31\n"
     ]
    }
   ],
   "source": [
    "history = model.fit(\n",
    "    X_train_scaled, y_train,\n",
    "    epochs=200,\n",
    "    batch_size=16,\n",
    "    validation_split=0.2,\n",
    "    callbacks=[early_stop],\n",
    "    verbose=1\n",
    ")\n",
    "\n",
    "# Evaluate\n",
    "test_loss, test_mae = model.evaluate(X_test_scaled, y_test)\n",
    "print(f\"Test MAE: {test_mae:.2f}\")\n",
    "print(f\"Test MSE: {test_loss:.2f}\")"
   ]
  },
  {
   "cell_type": "code",
   "execution_count": 46,
   "id": "e4712184-822e-4a9e-82bf-4062051befe0",
   "metadata": {
    "pycharm": {
     "name": "#%%\n"
    }
   },
   "outputs": [
    {
     "name": "stdout",
     "output_type": "stream",
     "text": [
      "Model and preprocessing tools saved!\n"
     ]
    }
   ],
   "source": [
    "import joblib\n",
    "\n",
    "# Save the model and preprocessing tools\n",
    "model.save('jam_factor_predictor.keras')\n",
    "joblib.dump(street_encoder, 'street_encoder.joblib')\n",
    "joblib.dump(time_encoder, 'time_encoder.joblib')\n",
    "joblib.dump(scaler, 'scaler.joblib')\n",
    "print(\"Model and preprocessing tools saved!\")"
   ]
  },
  {
   "cell_type": "code",
   "execution_count": 48,
   "id": "3699f140-6c24-42af-ae50-1ce7248a6420",
   "metadata": {
    "pycharm": {
     "name": "#%%\n"
    }
   },
   "outputs": [
    {
     "name": "stdout",
     "output_type": "stream",
     "text": [
      "Predicted Jam Factor: 1.68\n"
     ]
    },
    {
     "name": "stderr",
     "output_type": "stream",
     "text": [
      "/opt/anaconda3/lib/python3.12/site-packages/sklearn/base.py:493: UserWarning: X does not have valid feature names, but OneHotEncoder was fitted with feature names\n",
      "  warnings.warn(\n",
      "/opt/anaconda3/lib/python3.12/site-packages/sklearn/base.py:493: UserWarning: X does not have valid feature names, but StandardScaler was fitted with feature names\n",
      "  warnings.warn(\n"
     ]
    }
   ],
   "source": [
    "from tensorflow.keras.models import load_model\n",
    "\n",
    "# Load the model and preprocessing tools\n",
    "model = load_model('jam_factor_predictor.keras')\n",
    "street_encoder = joblib.load('street_encoder.joblib')\n",
    "time_encoder = joblib.load('time_encoder.joblib')\n",
    "scaler = joblib.load('scaler.joblib')\n",
    "\n",
    "# Function to make predictions\n",
    "def predict_jam_factor(day_type, time, street, temperature, speed):\n",
    "    # Encode street\n",
    "    street_encoded = street_encoder.transform([street])\n",
    "    street_onehot = np.eye(len(street_encoder.classes_))[street_encoded]\n",
    "    \n",
    "    # Encode day_type\n",
    "    day_type_encoded = 1 if day_type == 'weekends' else 0\n",
    "    \n",
    "    # Encode time\n",
    "    time_encoded = time_encoder.transform([[time]])\n",
    "    \n",
    "    # Scale numerical features\n",
    "    temp_speed_scaled = scaler.transform([[temperature, speed]])\n",
    "    \n",
    "    # Combine features\n",
    "    X = np.hstack([street_onehot, [[day_type_encoded]], time_encoded, temp_speed_scaled])\n",
    "    \n",
    "    # Predict jamFactor\n",
    "    return model.predict(X, verbose=0)[0][0]\n",
    "\n",
    "# Example prediction\n",
    "jam_factor = predict_jam_factor(\n",
    "    day_type='weekends',\n",
    "    time='09',\n",
    "    street='Feldkirchenstraße',\n",
    "    temperature=5.0,\n",
    "    speed=10.0\n",
    ")\n",
    "print(f\"Predicted Jam Factor: {jam_factor:.2f}\")"
   ]
  },
  {
   "cell_type": "code",
   "execution_count": 50,
   "id": "cd178f93-226c-473f-8b38-41c13053e873",
   "metadata": {
    "pycharm": {
     "name": "#%%\n"
    }
   },
   "outputs": [],
   "source": [
    "# Predict on the test set\n",
    "y_pred = model.predict(X_test, verbose=0).flatten()"
   ]
  },
  {
   "cell_type": "code",
   "execution_count": 52,
   "id": "98c924f8-1bd5-46e3-a017-21e7426cd561",
   "metadata": {
    "pycharm": {
     "name": "#%%\n"
    }
   },
   "outputs": [
    {
     "name": "stdout",
     "output_type": "stream",
     "text": [
      "Mean Absolute Error (MAE): 0.4307\n",
      "Mean Squared Error (MSE): 0.4017\n",
      "Root Mean Squared Error (RMSE): 0.6338\n"
     ]
    }
   ],
   "source": [
    "from sklearn.metrics import mean_absolute_error, mean_squared_error\n",
    "\n",
    "# Calculate MAE, MSE, and RMSE\n",
    "mae = mean_absolute_error(y_test, y_pred)\n",
    "mse = mean_squared_error(y_test, y_pred)\n",
    "rmse = np.sqrt(mse)\n",
    "\n",
    "print(f\"Mean Absolute Error (MAE): {mae:.4f}\")\n",
    "print(f\"Mean Squared Error (MSE): {mse:.4f}\")\n",
    "print(f\"Root Mean Squared Error (RMSE): {rmse:.4f}\")"
   ]
  },
  {
   "cell_type": "code",
   "execution_count": null,
   "id": "0ea5ae7b-ee21-458e-878f-b4b6bcbfb624",
   "metadata": {
    "pycharm": {
     "name": "#%%\n",
     "is_executing": true
    }
   },
   "outputs": [],
   "source": [
    "import matplotlib.pyplot as plt\n",
    "\n",
    "# Plot predictions vs actual values\n",
    "plt.figure(figsize=(8, 6))\n",
    "plt.scatter(y_test, y_pred, alpha=0.5)\n",
    "plt.plot([min(y_test), max(y_test)], [min(y_test), max(y_test)], color='red', linestyle='--')  # Diagonal line\n",
    "plt.xlabel('Actual Jam Factor')\n",
    "plt.ylabel('Predicted Jam Factor')\n",
    "plt.title('Actual vs Predicted Jam Factor')\n",
    "plt.show()"
   ]
  },
  {
   "cell_type": "code",
   "execution_count": 56,
   "id": "5e931571-028d-4354-9676-762370f3e807",
   "metadata": {
    "pycharm": {
     "name": "#%%\n"
    }
   },
   "outputs": [
    {
     "data": {
      "image/png": "[encoded data removed]",
      "text/plain": [
       "<Figure size 800x600 with 1 Axes>"
      ]
     },
     "metadata": {},
     "output_type": "display_data"
    }
   ],
   "source": [
    "# Calculate residuals\n",
    "residuals = y_test - y_pred\n",
    "\n",
    "# Plot residuals\n",
    "plt.figure(figsize=(8, 6))\n",
    "plt.scatter(y_pred, residuals, alpha=0.5)\n",
    "plt.axhline(y=0, color='red', linestyle='--')  # Horizontal line at 0\n",
    "plt.xlabel('Predicted Jam Factor')\n",
    "plt.ylabel('Residuals')\n",
    "plt.title('Residuals vs Predicted Jam Factor')\n",
    "plt.show()"
   ]
  },
  {
   "cell_type": "code",
   "execution_count": null,
   "id": "88d7366c-4040-4f54-b371-e3016488728a",
   "metadata": {
    "pycharm": {
     "name": "#%%\n"
    }
   },
   "outputs": [],
   "source": []
  }
 ],
 "metadata": {
  "kernelspec": {
   "display_name": "Python [conda env:base] *",
   "language": "python",
   "name": "conda-base-py"
  },
  "language_info": {
   "codemirror_mode": {
    "name": "ipython",
    "version": 3
   },
   "file_extension": ".py",
   "mimetype": "text/x-python",
   "name": "python",
   "nbconvert_exporter": "python",
   "pygments_lexer": "ipython3",
   "version": "3.12.7"
  }
 },
 "nbformat": 4,
 "nbformat_minor": 5
}